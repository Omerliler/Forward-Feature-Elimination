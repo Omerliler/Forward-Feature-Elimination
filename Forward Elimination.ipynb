{
 "cells": [
  {
   "cell_type": "markdown",
   "metadata": {},
   "source": [
    "# Forward Feature Selection to Find an Optimum Feature List"
   ]
  },
  {
   "cell_type": "markdown",
   "metadata": {},
   "source": [
    "In this project, we will create a Forward Elimination method to find optimum feature set.\n",
    "\n",
    "We have a data with 30+ features that includes sales, campaign and production informations.\n",
    "\n",
    "# Steps to find an optimum features set\n",
    "\n",
    "1.Train model with all features individually and check the performance.\n",
    "2.Select the first feature that gives the minimum Mean Absolute Percentage Error.\n",
    "3.Repeat the process and add one feature at a time\n",
    "4.After tried all features, find the optimum features set.\n",
    "\n",
    "\n",
    "\n",
    "\n",
    "\n",
    "# Loading the data\n",
    "\n",
    "First we should import the usefull packages. We will use XGBoost library for performing features."
   ]
  },
  {
   "cell_type": "code",
   "execution_count": 26,
   "metadata": {},
   "outputs": [],
   "source": [
    "import pandas as pd\n",
    "import numpy as np\n",
    "import matplotlib.pyplot as plt\n",
    "from xgboost import XGBRegressor"
   ]
  },
  {
   "cell_type": "markdown",
   "metadata": {},
   "source": [
    "Mape calculation finds to percentage of the error.\n",
    "\n",
    "**MAPE = (|Y_true - Y_pred|/Y_true)*100"
   ]
  },
  {
   "cell_type": "code",
   "execution_count": 14,
   "metadata": {},
   "outputs": [],
   "source": [
    "def mean_absolute_percentage_error(y_true, y_pred): \n",
    "    y_true, y_pred = np.array(y_true), np.array(y_pred)\n",
    "    return np.mean(np.abs((y_true - y_pred) / y_true)) * 100"
   ]
  },
  {
   "cell_type": "markdown",
   "metadata": {},
   "source": [
    "We are ready to read data with pandas. If there are duplicated rows we should eliminate them using primary key features."
   ]
  },
  {
   "cell_type": "code",
   "execution_count": 15,
   "metadata": {
    "scrolled": true
   },
   "outputs": [],
   "source": [
    "df = pd.read_csv('DATA.csv')\n",
    "df.drop_duplicates(subset = ['Yıl','Ay','Bölüm5 Kod', 'MusteriGrup'],inplace=True)"
   ]
  },
  {
   "cell_type": "markdown",
   "metadata": {},
   "source": [
    "Create a list for all features and remove the outcome and string values."
   ]
  },
  {
   "cell_type": "code",
   "execution_count": 16,
   "metadata": {},
   "outputs": [],
   "source": [
    "df_columns = df.columns.tolist()\n",
    "df_columns.remove('Bölüm5 Kod')\n",
    "df_columns.remove('ToplamTonaj')\n",
    "df_columns.remove('MusteriGrup')"
   ]
  },
  {
   "cell_type": "code",
   "execution_count": 17,
   "metadata": {},
   "outputs": [],
   "source": [
    "firstColumn = ''\n",
    "\n",
    "\n",
    "EliminationScores = pd.DataFrame(columns = ['Feature','mape'])\n",
    "bestScores = pd.DataFrame(columns = ['Method','Features','mape'])\n"
   ]
  },
  {
   "cell_type": "markdown",
   "metadata": {},
   "source": [
    "We will create a new feature that includes year and month info and use it for separate the train and test data."
   ]
  },
  {
   "cell_type": "code",
   "execution_count": 18,
   "metadata": {},
   "outputs": [],
   "source": [
    "df['YılAy'] = df['Yıl']*12 + df['Ay']"
   ]
  },
  {
   "cell_type": "markdown",
   "metadata": {},
   "source": [
    "Now we can create a loop for find the first feature. \n",
    "\n",
    "Train and test data will be rolling. Each cyle we will estimate 1 month, after prediction we will add feature and mape to a dataframe.\n",
    "\n",
    "Tested several algorithm for the best result. We will use XGBoost for predictions. Optimal parameters are 40 for estimator count, 6 for max depth.\n",
    "\n",
    "**After all 3 months are predicted, we will calculate a Weighted Avreages of MAPE."
   ]
  },
  {
   "cell_type": "code",
   "execution_count": 19,
   "metadata": {},
   "outputs": [],
   "source": [
    "start = 3\n",
    "end = 6\n",
    "if(firstColumn == ''):\n",
    "    for col in df_columns:\n",
    "        scores=pd.DataFrame(columns=['Yıl','Ay','Bölüm5 Kod','predictionMethod',\n",
    "                                  'real','prediction','error','mape'])\n",
    "        \n",
    "        for ay in range(start,end):    \n",
    "            \n",
    "              \n",
    "            X_train, X_test = pd.DataFrame(df[(df['YılAy'] <2020*12+ay)][col]), pd.DataFrame(df[(df['YılAy'] ==2020*12+ay)][col])\n",
    "            y_train, y_true =df[(df['YılAy'] <2020*12+ay)]['ToplamTonaj'], df[(df['YılAy'] ==2020*12+ay)]['ToplamTonaj']\n",
    "            \n",
    "        \n",
    "            estimator = XGBRegressor(n_estimators = 40, max_depth=6, objective = 'reg:squarederror')\n",
    "        \n",
    "            estimator.fit(X_train,y_train.values.ravel())\n",
    "            y_pred= estimator.predict(X_test)\n",
    "            \n",
    "                    \n",
    "            mapeTree = mean_absolute_percentage_error(y_true,y_pred)\n",
    "            \n",
    "            scores=scores.append({'Yıl':2020,'Ay':ay,'Bölüm5 Kod':df['Bölüm5 Kod'].iloc[0],'predictionMethod':'XGB',\n",
    "                                  'real':y_true.iloc[0],'prediction':y_pred[0],'error':y_pred[0]-y_true.iloc[0], 'mape':mapeTree}, ignore_index=True)\n",
    "        \n",
    "            \n",
    "            \n",
    "        WeightedMape = (scores.mape * scores.real).sum()\n",
    "        scoresMean = WeightedMape / scores.real.sum()\n",
    "                    \n",
    "        EliminationScores = EliminationScores.append({'Feature':col,'mape':scoresMean},ignore_index = True)\n",
    "    firstColumn = EliminationScores[EliminationScores['mape'] == EliminationScores['mape'].min()]['Feature'].iloc[0]\n",
    "   "
   ]
  },
  {
   "cell_type": "markdown",
   "metadata": {},
   "source": [
    "This is the first feature with the minimum MAPE."
   ]
  },
  {
   "cell_type": "code",
   "execution_count": 20,
   "metadata": {},
   "outputs": [
    {
     "name": "stdout",
     "output_type": "stream",
     "text": [
      "5-Boya ÜFE_RM12\n"
     ]
    }
   ],
   "source": [
    "print ('{}-{}'.format(df['Bölüm5 Kod'].iloc[0],firstColumn))"
   ]
  },
  {
   "cell_type": "markdown",
   "metadata": {},
   "source": [
    "And this is the feature scores."
   ]
  },
  {
   "cell_type": "code",
   "execution_count": 21,
   "metadata": {
    "scrolled": true
   },
   "outputs": [
    {
     "name": "stdout",
     "output_type": "stream",
     "text": [
      "                                             Feature         mape\n",
      "26                Binalar Ve Bina İnşaat İşleri_RM12    27.997728\n",
      "25                                     Boya ÜFE_RM12    27.997728\n",
      "27                 Binalar Ve Bina İnşaat İşleri_RM6    33.775868\n",
      "24                                      Boya ÜFE_RM6    34.056435\n",
      "31                                               Yıl    48.089613\n",
      "14  Tüketici Fiyatlarının Değişimine Ilişkin Düşünce    49.191253\n",
      "28                                      ToptanciStok    65.055608\n",
      "17                                     Pesin_GecenAy    67.743182\n",
      "5                        Boya Tüketici Fiyat Endeksi    99.936220\n",
      "16                                          USD_Std6   637.506246\n",
      "4                                    BolgeDepoSayısı   709.805157\n",
      "22     Yapı Kullanma İzin Belgesi - Daire Sayısı_RM6   812.223806\n",
      "19                                       ToplamHedef   902.693514\n",
      "10                               VadeIskonto_GecenAy   934.299149\n",
      "1                                        VadeIskonto   940.778479\n",
      "30                                    IadeKampanyasi  1008.878161\n",
      "0                                          Promosyon  1087.313378\n",
      "9                                ToplamTeklifMiktari  1087.313378\n",
      "8                                        IskontoOran  1087.313378\n",
      "7                                 BaglantiKampanyasi  1087.313378\n",
      "6                          BaglantiKampanyasiBittiMi  1087.313378\n",
      "3                                Lansman İçerik Kodu  1087.313378\n",
      "2                                  Promosyon_GecenAy  1087.313378\n",
      "13                         CRM_Hedef_Kitle_Kisi_Sayi  1090.465930\n",
      "12                          CRMAktiviteBitiseUzaklik  1090.465930\n",
      "11                                   CRMAktiviteTuru  1090.465930\n",
      "23                              KampanyaTuru_GecenAy  1094.701119\n",
      "29                                 İnşaat Büyüme_RM3  1101.433642\n",
      "18                                  PromosyonIskonto  1189.353439\n",
      "15                                         DonemSonu  1509.628694\n",
      "32                                                Ay  1677.809665\n",
      "20                           Konut Faiz Oranları_RM6  1821.265898\n",
      "21                                             Satis  1980.121346\n"
     ]
    }
   ],
   "source": [
    "print(EliminationScores.sort_values(by='mape'))"
   ]
  },
  {
   "cell_type": "markdown",
   "metadata": {},
   "source": [
    "Now we found the first feature. We will add other features one by one.\n",
    "\n",
    "modelColumns dataframe will be our feature set. We will add the selected features in to this data frame and remove them from df_columns list."
   ]
  },
  {
   "cell_type": "code",
   "execution_count": 22,
   "metadata": {},
   "outputs": [],
   "source": [
    "modelColumns = [firstColumn]\n",
    "    \n",
    "df_columns.remove(firstColumn)\n",
    "\n",
    "ModelResultsForward = pd.DataFrame(columns=['Features','num_feature','mape'])\n",
    "    "
   ]
  },
  {
   "cell_type": "markdown",
   "metadata": {},
   "source": [
    "In the one cyle of the while loop, the model will try to add all features one by one to features set.\n",
    "\n",
    "And add the best feature to the modelColumns dataframe. \n",
    "\n",
    "When one cyle is completed, the best feature is removed from the loop, and continue with the features left behind.\n"
   ]
  },
  {
   "cell_type": "code",
   "execution_count": 24,
   "metadata": {
    "scrolled": true
   },
   "outputs": [],
   "source": [
    "while len(df_columns)>0:\n",
    "        \n",
    "    EliminationScores = pd.DataFrame(columns = ['Feature','mape','modelColumns'])\n",
    "\n",
    "    for col in df_columns:\n",
    "\n",
    "        if(col != 'Bölüm5 Kod' and col != 'ToplamTonaj' and col not in modelColumns):\n",
    "\n",
    "            scores=pd.DataFrame(columns=['Yıl','Ay','Bölüm5 Kod','predictionMethod',\n",
    "                                      'real','prediction','error','mape'])\n",
    "\n",
    "            modelColumns.append(col)\n",
    "\n",
    "            for ay in range(start,end):    \n",
    "\n",
    "\n",
    "                X_train, X_test = pd.DataFrame(df[(df['YılAy'] <2020*12+ay)][modelColumns]), pd.DataFrame(df[(df['YılAy'] ==2020*12+ay)][modelColumns])\n",
    "                y_train, y_true =df[(df['YılAy'] <2020*12+ay)]['ToplamTonaj'], df[(df['YılAy'] ==2020*12+ay)]['ToplamTonaj']\n",
    "\n",
    "\n",
    "                estimator = XGBRegressor(n_estimators = 40, max_depth=6, objective = 'reg:squarederror')\n",
    "\n",
    "                estimator.fit(X_train,y_train.values.ravel())\n",
    "                y_pred= estimator.predict(X_test)\n",
    "                # y_pred\n",
    "\n",
    "\n",
    "                mapeTree = mean_absolute_percentage_error(y_true,y_pred)\n",
    "\n",
    "                scores=scores.append({'Yıl':2020,'Ay':ay,'Bölüm5 Kod':df['Bölüm5 Kod'].iloc[0],'predictionMethod':'XGB',\n",
    "                                          'real':y_true.iloc[0],'prediction':y_pred[0],'error':y_pred[0]-y_true.iloc[0], 'mape':mapeTree}, ignore_index=True)\n",
    "                \n",
    "            WeightedMape = (scores.mape * scores.real).sum()\n",
    "            scoresMean = WeightedMape / scores.real.sum()  \n",
    "\n",
    "            EliminationScores = EliminationScores.append({'Feature':col,'mape':scoresMean,'modelColumns':modelColumns.copy()},ignore_index = True)\n",
    "\n",
    "            modelColumns.pop()\n",
    "\n",
    "    best = EliminationScores[EliminationScores['mape'] == EliminationScores['mape'].min()]['Feature'].iloc[0]\n",
    "\n",
    "\n",
    "    modelColumns = EliminationScores[EliminationScores['mape'] == EliminationScores['mape'].min()]['modelColumns'].iloc[0]\n",
    "\n",
    "\n",
    "\n",
    "    ts = modelColumns.copy()\n",
    "    ModelResultsForward = ModelResultsForward.append({'Features':ts,'num_feature':len(ts),'mape':EliminationScores['mape'].min()},ignore_index=True)\n",
    "    del ts\n",
    "\n",
    "\n",
    "    df_columns.remove(best)\n",
    "    print(len(df_columns))\n",
    "    print(modelColumns)\n",
    "    print('MAPE: ' + str(EliminationScores['mape'].min()))\n",
    "    print('--------------------------')"
   ]
  },
  {
   "cell_type": "code",
   "execution_count": 36,
   "metadata": {
    "scrolled": false
   },
   "outputs": [
    {
     "name": "stdout",
     "output_type": "stream",
     "text": [
      "                                             Features num_feature       mape\n",
      "16  [Boya ÜFE_RM12, Binalar Ve Bina İnşaat İşleri_...          18   8.181590\n",
      "17  [Boya ÜFE_RM12, Binalar Ve Bina İnşaat İşleri_...          19  11.010276\n",
      "20  [Boya ÜFE_RM12, Binalar Ve Bina İnşaat İşleri_...          22  12.203155\n",
      "18  [Boya ÜFE_RM12, Binalar Ve Bina İnşaat İşleri_...          20  12.203155\n",
      "19  [Boya ÜFE_RM12, Binalar Ve Bina İnşaat İşleri_...          21  12.203155\n",
      "25  [Boya ÜFE_RM12, Binalar Ve Bina İnşaat İşleri_...          27  26.410969\n",
      "12  [Boya ÜFE_RM12, Binalar Ve Bina İnşaat İşleri_...          14  26.938653\n",
      "11  [Boya ÜFE_RM12, Binalar Ve Bina İnşaat İşleri_...          13  26.938653\n",
      "9   [Boya ÜFE_RM12, Binalar Ve Bina İnşaat İşleri_...          11  26.938653\n",
      "0   [Boya ÜFE_RM12, Binalar Ve Bina İnşaat İşleri_...           2  26.938653\n",
      "7   [Boya ÜFE_RM12, Binalar Ve Bina İnşaat İşleri_...           9  26.938653\n",
      "6   [Boya ÜFE_RM12, Binalar Ve Bina İnşaat İşleri_...           8  26.938653\n",
      "5   [Boya ÜFE_RM12, Binalar Ve Bina İnşaat İşleri_...           7  26.938653\n",
      "4   [Boya ÜFE_RM12, Binalar Ve Bina İnşaat İşleri_...           6  26.938653\n",
      "3   [Boya ÜFE_RM12, Binalar Ve Bina İnşaat İşleri_...           5  26.938653\n",
      "2   [Boya ÜFE_RM12, Binalar Ve Bina İnşaat İşleri_...           4  26.938653\n",
      "1   [Boya ÜFE_RM12, Binalar Ve Bina İnşaat İşleri_...           3  26.938653\n",
      "8   [Boya ÜFE_RM12, Binalar Ve Bina İnşaat İşleri_...          10  26.938653\n",
      "10  [Boya ÜFE_RM12, Binalar Ve Bina İnşaat İşleri_...          12  26.938653\n",
      "23  [Boya ÜFE_RM12, Binalar Ve Bina İnşaat İşleri_...          25  27.740027\n",
      "24  [Boya ÜFE_RM12, Binalar Ve Bina İnşaat İşleri_...          26  27.852592\n",
      "15  [Boya ÜFE_RM12, Binalar Ve Bina İnşaat İşleri_...          17  28.093095\n",
      "13  [Boya ÜFE_RM12, Binalar Ve Bina İnşaat İşleri_...          15  28.095334\n",
      "14  [Boya ÜFE_RM12, Binalar Ve Bina İnşaat İşleri_...          16  28.177218\n",
      "26  [Boya ÜFE_RM12, Binalar Ve Bina İnşaat İşleri_...          28  28.340799\n",
      "21  [Boya ÜFE_RM12, Binalar Ve Bina İnşaat İşleri_...          23  29.757112\n",
      "31  [Boya ÜFE_RM12, Binalar Ve Bina İnşaat İşleri_...          33  30.774792\n",
      "22  [Boya ÜFE_RM12, Binalar Ve Bina İnşaat İşleri_...          24  32.406939\n",
      "27  [Boya ÜFE_RM12, Binalar Ve Bina İnşaat İşleri_...          29  38.690200\n",
      "29  [Boya ÜFE_RM12, Binalar Ve Bina İnşaat İşleri_...          31  39.862320\n",
      "28  [Boya ÜFE_RM12, Binalar Ve Bina İnşaat İşleri_...          30  48.645908\n",
      "30  [Boya ÜFE_RM12, Binalar Ve Bina İnşaat İşleri_...          32  55.923435\n"
     ]
    }
   ],
   "source": [
    "print(ModelResultsForward.sort_values(by='mape'))"
   ]
  },
  {
   "cell_type": "code",
   "execution_count": 35,
   "metadata": {},
   "outputs": [
    {
     "data": {
      "image/png": "[encoded data removed]",
      "text/plain": [
       "<Figure size 432x288 with 1 Axes>"
      ]
     },
     "metadata": {
      "needs_background": "light"
     },
     "output_type": "display_data"
    }
   ],
   "source": [
    "plt.plot(ModelResultsForward['num_feature'],ModelResultsForward['mape'])\n",
    "plt.ylabel('MAPE')\n",
    "plt.xlabel('Number of Features')\n",
    "plt.axhline(y=ModelResultsForward['mape'].min(), color='r', linestyle='--')\n",
    "\n",
    "plt.show()"
   ]
  },
  {
   "cell_type": "markdown",
   "metadata": {},
   "source": [
    "### Final Conclusion\n",
    "\n",
    "When the model has too many feature, it could cause overfitting and more processing times. So we should find the optimum number of features when we use the model. \n",
    "\n",
    "As you can see at the example, there are 30+ features but only 18 of them give us the best accuracy. \n",
    "\n",
    "Forward elimination could be usefull when the data has correlated features. But it could take much time if the data has big amount of features. In this stuation we can use special feature selection libraries like Lasso, Ridge, Recursive etc."
   ]
  }
 ],
 "metadata": {
  "kernelspec": {
   "display_name": "Python 3",
   "language": "python",
   "name": "python3"
  },
  "language_info": {
   "codemirror_mode": {
    "name": "ipython",
    "version": 3
   },
   "file_extension": ".py",
   "mimetype": "text/x-python",
   "name": "python",
   "nbconvert_exporter": "python",
   "pygments_lexer": "ipython3",
   "version": "3.7.7"
  }
 },
 "nbformat": 4,
 "nbformat_minor": 4
}
